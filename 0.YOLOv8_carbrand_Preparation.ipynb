{
  "cells": [
    {
      "cell_type": "markdown",
      "metadata": {
        "id": "tlAAvj2htIH3"
      },
      "source": [
        "# ROOT_DIR, DATA_ROOT_DIR 설정"
      ]
    },
    {
      "cell_type": "code",
      "execution_count": 1,
      "metadata": {
        "id": "EHbQgzcvtKoK"
      },
      "outputs": [],
      "source": [
        "import os\n",
        "\n",
        "ROOT_DIR = r'C:\\yolotest'\n",
        "\n",
        "BBOX_ROOT_DIR = os.path.join(ROOT_DIR, 'test_images')  #BBOX가 완료\n",
        "DATA_ROOT_DIR = os.path.join(ROOT_DIR, 'image_Data')  # 훈련/검증/테스트 데이터 분할"
      ]
    },
    {
      "cell_type": "markdown",
      "metadata": {
        "id": "XcVEOgLA0Zrb"
      },
      "source": [
        "# DATA_ROOT_DIR 설정"
      ]
    },
    {
      "cell_type": "code",
      "execution_count": 2,
      "metadata": {
        "id": "MuHCGx1M0SuC"
      },
      "outputs": [],
      "source": [
        "\n",
        "TRAIN_DATA_ROOT_DIR = os.path.join(DATA_ROOT_DIR, 'train')\n",
        "\n",
        "VALID_DATA_ROOT_DIR = os.path.join(DATA_ROOT_DIR, 'valid')\n",
        "\n",
        "TEST_DATA_ROOT_DIR = os.path.join(DATA_ROOT_DIR, 'test')"
      ]
    },
    {
      "cell_type": "markdown",
      "metadata": {},
      "source": [
        "# Directory 만들기"
      ]
    },
    {
      "cell_type": "code",
      "execution_count": 3,
      "metadata": {},
      "outputs": [
        {
          "name": "stdout",
          "output_type": "stream",
          "text": [
            "C:\\yolotest\\image_Data is created !!\n",
            "C:\\yolotest\\image_Data\\train is created !!\n",
            "C:\\yolotest\\image_Data\\valid is created !!\n",
            "C:\\yolotest\\image_Data\\test is created !!\n"
          ]
        }
      ],
      "source": [
        "import shutil\n",
        "# DATA_ROOT_DIR 삭제\n",
        "if os.path.exists(DATA_ROOT_DIR):    \n",
        "    \n",
        "    shutil.rmtree(DATA_ROOT_DIR)    \n",
        "    print(DATA_ROOT_DIR + ' is removed !!!')\n",
        "\n",
        "\n",
        "os.mkdir(DATA_ROOT_DIR)\n",
        "print(DATA_ROOT_DIR + ' is created !!')\n",
        "\n",
        "os.mkdir(TRAIN_DATA_ROOT_DIR)\n",
        "os.mkdir(os.path.join(TRAIN_DATA_ROOT_DIR, 'images'))\n",
        "os.mkdir(os.path.join(TRAIN_DATA_ROOT_DIR, 'labels'))\n",
        "print(TRAIN_DATA_ROOT_DIR + ' is created !!')\n",
        "\n",
        "os.mkdir(VALID_DATA_ROOT_DIR)\n",
        "os.mkdir(os.path.join(VALID_DATA_ROOT_DIR, 'images'))\n",
        "os.mkdir(os.path.join(VALID_DATA_ROOT_DIR, 'labels'))\n",
        "print(VALID_DATA_ROOT_DIR + ' is created !!')\n",
        "\n",
        "os.mkdir(TEST_DATA_ROOT_DIR)\n",
        "os.mkdir(os.path.join(TEST_DATA_ROOT_DIR, 'images'))\n",
        "os.mkdir(os.path.join(TEST_DATA_ROOT_DIR, 'labels'))\n",
        "print(TEST_DATA_ROOT_DIR + ' is created !!')"
      ]
    },
    {
      "cell_type": "markdown",
      "metadata": {},
      "source": [
        "# 각 자동차 데이터 분리(원본->훈련,검증용)"
      ]
    },
    {
      "cell_type": "code",
      "execution_count": 4,
      "metadata": {},
      "outputs": [
        {
          "name": "stdout",
          "output_type": "stream",
          "text": [
            "train data shuffle is done !!!\n",
            "split nums =>  40\n"
          ]
        },
        {
          "data": {
            "text/plain": [
              "(101, 61, 40)"
            ]
          },
          "execution_count": 4,
          "metadata": {},
          "output_type": "execute_result"
        }
      ],
      "source": [
        "import shutil\n",
        "import random\n",
        "\n",
        "#########################################################\n",
        "# 각 클래스별로 수동으로 작업할 것!\n",
        "#########################################################\n",
        "\n",
        "\n",
        "#src_img_dir_path = os.path.join(BBOX_ROOT_DIR,'beverage\\images')\n",
        "#src_img_dir_path = os.path.join(BBOX_ROOT_DIR,'bread\\images')\n",
        "#src_img_dir_path = os.path.join(BBOX_ROOT_DIR,'chocolate\\images')\n",
        "src_img_dir_path = os.path.join(BBOX_ROOT_DIR,'images')\n",
        "#src_img_dir_path = os.path.join(BBOX_ROOT_DIR,'ramen\\images')\n",
        "\n",
        "\n",
        "#src_lbl_dir_path = os.path.join(BBOX_ROOT_DIR,'beverage\\labels')\n",
        "#src_lbl_dir_path = os.path.join(BBOX_ROOT_DIR,'bread\\labels')\n",
        "#src_lbl_dir_path = os.path.join(BBOX_ROOT_DIR,'chocolate\\labels')\n",
        "src_lbl_dir_path = os.path.join(BBOX_ROOT_DIR,'labels')\n",
        "#src_lbl_dir_path = os.path.join(BBOX_ROOT_DIR,'ramen\\labels')\n",
        "\n",
        "\n",
        "\n",
        "valid_img_dir_path = os.path.join(DATA_ROOT_DIR,'valid\\images')\n",
        "train_img_dir_path = os.path.join(DATA_ROOT_DIR,'train\\images')\n",
        "test_img_dir_path = os.path.join(DATA_ROOT_DIR,'test\\images')\n",
        "\n",
        "valid_lbl_dir_path = os.path.join(DATA_ROOT_DIR,'valid\\labels')\n",
        "train_lbl_dir_path = os.path.join(DATA_ROOT_DIR,'train\\labels')\n",
        "test_lbl_dir_path = os.path.join(DATA_ROOT_DIR,'test\\labels')\n",
        "\n",
        "#파일 이름 리스트업\n",
        "src_img_data_file_list = os.listdir(src_img_dir_path)\n",
        "\n",
        "#파일 이름 섞기\n",
        "random.shuffle(src_img_data_file_list)\n",
        "print('train data shuffle is done !!!')\n",
        "\n",
        "#10개 중 0.4로 곱하기 \n",
        "MOVE_RATIO = 0.4\n",
        "split_num = int(MOVE_RATIO*len(src_img_data_file_list))\n",
        "\n",
        "print('split nums => ', split_num)\n",
        "\n",
        "# extract test data from train data\n",
        "valid_img_data_file_list = src_img_data_file_list[0:split_num]\n",
        "train_img_data_file_list = src_img_data_file_list[split_num:]\n",
        "\n",
        "len(src_img_data_file_list), len(train_img_data_file_list),len(valid_img_data_file_list)\n",
        "\n"
      ]
    },
    {
      "cell_type": "code",
      "execution_count": 5,
      "metadata": {},
      "outputs": [
        {
          "name": "stdout",
          "output_type": "stream",
          "text": [
            "split nums =>  20\n"
          ]
        },
        {
          "data": {
            "text/plain": [
              "(20, 20)"
            ]
          },
          "execution_count": 5,
          "metadata": {},
          "output_type": "execute_result"
        }
      ],
      "source": [
        "#검증용에서 5:5로 분할해서 테스트용으로 남겨놓음\n",
        "\n",
        "MOVE_RATIO = 0.5\n",
        "split_num = int(MOVE_RATIO*len(valid_img_data_file_list))\n",
        "\n",
        "print('split nums => ', split_num)\n",
        "\n",
        "# extract test data from train data\n",
        "test_img_data_file_list = valid_img_data_file_list[0:split_num]\n",
        "valid_img_data_file_list = valid_img_data_file_list[split_num:]\n",
        "\n",
        "len(valid_img_data_file_list),len(test_img_data_file_list)"
      ]
    },
    {
      "cell_type": "markdown",
      "metadata": {},
      "source": [
        "## Src -> Train"
      ]
    },
    {
      "cell_type": "code",
      "execution_count": 6,
      "metadata": {},
      "outputs": [
        {
          "name": "stdout",
          "output_type": "stream",
          "text": [
            "total move nums =>  61\n",
            "========================================================================\n"
          ]
        }
      ],
      "source": [
        "move_nums = 0\n",
        "\n",
        "for train_img_data_file in train_img_data_file_list:\n",
        "    # print(train_data_file)\n",
        "\n",
        "    try:\n",
        "        shutil.copy(os.path.join(src_img_dir_path, train_img_data_file),os.path.join(train_img_dir_path, train_img_data_file)) \n",
        "\n",
        "        label_file_name = train_img_data_file.split('.')[0]+'.txt'\n",
        "        shutil.copy(os.path.join(src_lbl_dir_path,label_file_name ),os.path.join(train_lbl_dir_path, label_file_name)) \n",
        "    except Exception as err:\n",
        "        print(str(err))\n",
        "\n",
        "    move_nums = move_nums + 1\n",
        "\n",
        "print('total move nums => ', move_nums)\n",
        "print('========================================================================')"
      ]
    },
    {
      "cell_type": "markdown",
      "metadata": {},
      "source": [
        "## Src -> Valid"
      ]
    },
    {
      "cell_type": "code",
      "execution_count": 7,
      "metadata": {},
      "outputs": [
        {
          "name": "stdout",
          "output_type": "stream",
          "text": [
            "total move nums =>  20\n",
            "========================================================================\n"
          ]
        }
      ],
      "source": [
        "move_nums = 0\n",
        "\n",
        "for valid_img_data_file in valid_img_data_file_list:\n",
        "    # print(valid_img_data_file)\n",
        "\n",
        "    try:\n",
        "        shutil.copy(os.path.join(src_img_dir_path, valid_img_data_file),os.path.join(valid_img_dir_path, valid_img_data_file)) \n",
        "\n",
        "        label_file_name = valid_img_data_file.split('.')[0]+'.txt'\n",
        "        shutil.copy(os.path.join(src_lbl_dir_path,label_file_name ),os.path.join(valid_lbl_dir_path, label_file_name))\n",
        "\n",
        "    except Exception as err:\n",
        "        print(str(err))\n",
        "\n",
        "    move_nums = move_nums + 1\n",
        "\n",
        "print('total move nums => ', move_nums)\n",
        "print('========================================================================')"
      ]
    },
    {
      "cell_type": "markdown",
      "metadata": {},
      "source": [
        "## Src -> test"
      ]
    },
    {
      "cell_type": "code",
      "execution_count": 8,
      "metadata": {},
      "outputs": [
        {
          "name": "stdout",
          "output_type": "stream",
          "text": [
            "total move nums =>  20\n",
            "========================================================================\n"
          ]
        }
      ],
      "source": [
        "move_nums = 0\n",
        "\n",
        "for test_img_data_file in test_img_data_file_list:\n",
        "    # print(test_img_data_file)\n",
        "\n",
        "    try:\n",
        "        shutil.copy(os.path.join(src_img_dir_path, test_img_data_file),os.path.join(test_img_dir_path, test_img_data_file)) \n",
        "\n",
        "        label_file_name = test_img_data_file.split('.')[0]+'.txt'\n",
        "        shutil.copy(os.path.join(src_lbl_dir_path,label_file_name ),os.path.join(test_lbl_dir_path, label_file_name))\n",
        "\n",
        "    except Exception as err:\n",
        "        print(str(err))\n",
        "\n",
        "    move_nums = move_nums + 1\n",
        "\n",
        "print('total move nums => ', move_nums)\n",
        "print('========================================================================')"
      ]
    },
    {
      "cell_type": "markdown",
      "metadata": {},
      "source": [
        "------"
      ]
    },
    {
      "cell_type": "markdown",
      "metadata": {},
      "source": []
    },
    {
      "cell_type": "markdown",
      "metadata": {},
      "source": []
    }
  ],
  "metadata": {
    "accelerator": "GPU",
    "colab": {
      "collapsed_sections": [],
      "name": "Kaggle_Breast_Ultrasound_Data_Preparation_2.ipynb",
      "provenance": []
    },
    "gpuClass": "standard",
    "kernelspec": {
      "display_name": "Python 3.9.13 64-bit",
      "language": "python",
      "name": "python3"
    },
    "language_info": {
      "codemirror_mode": {
        "name": "ipython",
        "version": 3
      },
      "file_extension": ".py",
      "mimetype": "text/x-python",
      "name": "python",
      "nbconvert_exporter": "python",
      "pygments_lexer": "ipython3",
      "version": "3.8.18"
    },
    "vscode": {
      "interpreter": {
        "hash": "f6f6af92342e95da19c60530c4a8d649d6818e2b0fb1b93d31b29113cdc90935"
      }
    }
  },
  "nbformat": 4,
  "nbformat_minor": 0
}
